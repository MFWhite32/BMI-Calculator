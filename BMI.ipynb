{
 "cells": [
  {
   "cell_type": "code",
   "execution_count": 4,
   "id": "2f4d00c7-bebc-43af-8ae8-499889f7030a",
   "metadata": {},
   "outputs": [
    {
     "name": "stdin",
     "output_type": "stream",
     "text": [
      "What's your name? Mark\n",
      "What is your weight in pounds?  330\n"
     ]
    },
    {
     "name": "stdout",
     "output_type": "stream",
     "text": [
      "How tall are you? \n"
     ]
    },
    {
     "name": "stdin",
     "output_type": "stream",
     "text": [
      "Feet:  5\n",
      "Inches:  10\n"
     ]
    },
    {
     "name": "stdout",
     "output_type": "stream",
     "text": [
      "47.34\n",
      "Mark, I cannot emphasize enough the health risks involved with how overweight you are. Diet now, go for a run, just do something or you are going to die.\n"
     ]
    }
   ],
   "source": [
    "#BMI = (weight in pound x 703) / (height in inches x height in inches)\n",
    "\n",
    "def get_height():\n",
    "    print(\"How tall are you? \")\n",
    "    feet = int(input(\"Feet: \"))\n",
    "    inches = int(input(\"Inches: \"))\n",
    "    return feet * 12 + inches\n",
    "\n",
    "name = input(\"What's your name?\")\n",
    "weight = int(input(\"What is your weight in pounds? \"))\n",
    "height = get_height()\n",
    "\n",
    "BMI = (weight * 703) / (height * height)\n",
    "\n",
    "print(\"{:.2f}\".format(BMI))\n",
    "\n",
    "if BMI > 0:\n",
    "    if(BMI < 18.5):\n",
    "        print(name, + \", you're underweight. Go eat something.\")\n",
    "    elif (BMI <= 24.9):\n",
    "        print(name + \", your weight is normal, keep it up! :)\")\n",
    "    elif (BMI <= 29.9):\n",
    "        print(name + \", you are overweight, but it's not too late!\")\n",
    "    elif (BMI <= 34.9):\n",
    "        print(name + \", you're getting up there, Dude.\")\n",
    "    elif (BMI <= 39.9):\n",
    "        print(name + \", you really need to consider a diet.\")\n",
    "    elif (BMI >= 40):\n",
    "        print(name + \", I cannot emphasize enough the health risks involved with how overweight you are. Diet now, go for a run, just do something or you are going to die.\")\n",
    "    else:\n",
    "        print(\"You entered something wrong.\")"
   ]
  },
  {
   "cell_type": "code",
   "execution_count": null,
   "id": "c8e3d532-3e8f-42ed-8ff3-91249efad0d0",
   "metadata": {},
   "outputs": [],
   "source": []
  }
 ],
 "metadata": {
  "kernelspec": {
   "display_name": "Python [conda env:base] *",
   "language": "python",
   "name": "conda-base-py"
  },
  "language_info": {
   "codemirror_mode": {
    "name": "ipython",
    "version": 3
   },
   "file_extension": ".py",
   "mimetype": "text/x-python",
   "name": "python",
   "nbconvert_exporter": "python",
   "pygments_lexer": "ipython3",
   "version": "3.12.7"
  }
 },
 "nbformat": 4,
 "nbformat_minor": 5
}
